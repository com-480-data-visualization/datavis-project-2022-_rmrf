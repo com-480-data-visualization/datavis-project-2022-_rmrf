{
 "cells": [
  {
   "cell_type": "code",
   "execution_count": 151,
   "id": "dc6aecca",
   "metadata": {},
   "outputs": [],
   "source": [
    "import pandas as pd\n",
    "import matplotlib.pyplot as plt"
   ]
  },
  {
   "cell_type": "markdown",
   "id": "cdf98bc0",
   "metadata": {},
   "source": [
    "We report the explanations for each column of our dataset file below.\n",
    "\n",
    "__species_code__: Unique alphanumeric code, usually six-letters, used to identify the species in the eBird database. These codes are used in most URLs from eBird, including eBird Status & Trends products.\n",
    "\n",
    "__taxon_order__ : The numeric value assigned to this taxon in the eBird/Clements taxonomy to arrange the species in the latest taxonomic sequence.\n",
    "\n",
    "__common_name__ : The primary English common name of the species in the eBird/Clements taxonomy.\n",
    "\n",
    "__scientific_name__ : The scientific name of the species in the eBird/Clements taxonomy.\n",
    "\n",
    "__version_year__ : The version year for the eBird Status & Trends products.\n",
    "\n",
    "__region_type__ : Two possible values: country or state (subregion).\n",
    "\n",
    "__region_code__ : The alphanumeric code of the country or state.\n",
    "\n",
    "__region_name__ : The name of the country or state.\n",
    "\n",
    "__region_area_km2__ : The area of the region in square kilometers.\n",
    "\n",
    "__season_name__ : The name of the season with the following possible values: breeding, nonbreeding, postbreeding_migration, prebreeding_migration, or year_round. Note that in the Northern Hemisphere these correspond roughly to summer, winter, fall migration, and spring migration. Each season definition is unique to the species and defined through expert review. Breeding and nonbreeding are primarily stationary periods, prebreeding migration is the period of migratory movement as birds return to the breeding grounds, and postbreeding migration is the period of migratory movement as birds depart the breeding grounds.\n",
    "\n",
    "__start_dt__ : The start date for the season in ISO format (i.e. YYYY-MM-DD).\n",
    "\n",
    "__end_dt__ : The end date for the season in ISO format (i.e. YYYY-MM-DD).\n",
    "\n",
    "__abundance_mean__ : The average (mean) estimated relative abundance within the selected region for a given season.\n",
    "\n",
    "__total_pop_percent__ : This percentage is calculated as the sum of the estimated relative abundance within the selected region divided by the sum of the estimated relative abundance, given that a majority of a species' entire range has been modeled for a particular season.\n",
    "\n",
    "__range_percent_occupied__ : The percentage of the selected region within the range boundary of a species for a given season.\n",
    "\n",
    "__range_total_percent__ : This percentage is calculated as the fraction of a species' total range that falls within the selected region, given that a majority of that species' range has been modeled for a particular season.\n",
    "\n",
    "__range_days_occupation__ : Days of occupation is calculated as the number of days that a species occupies the selected region, with occupation being defined as spatially covering the selected region by at least 10% based on estimated relative abundances averaged across the given season."
   ]
  },
  {
   "cell_type": "code",
   "execution_count": 144,
   "id": "9db29abf",
   "metadata": {},
   "outputs": [
    {
     "name": "stdout",
     "output_type": "stream",
     "text": [
      "935500\n"
     ]
    },
    {
     "data": {
      "text/html": [
       "<div>\n",
       "<style scoped>\n",
       "    .dataframe tbody tr th:only-of-type {\n",
       "        vertical-align: middle;\n",
       "    }\n",
       "\n",
       "    .dataframe tbody tr th {\n",
       "        vertical-align: top;\n",
       "    }\n",
       "\n",
       "    .dataframe thead th {\n",
       "        text-align: right;\n",
       "    }\n",
       "</style>\n",
       "<table border=\"1\" class=\"dataframe\">\n",
       "  <thead>\n",
       "    <tr style=\"text-align: right;\">\n",
       "      <th></th>\n",
       "      <th>species_code</th>\n",
       "      <th>taxon_order</th>\n",
       "      <th>common_name</th>\n",
       "      <th>scientific_name</th>\n",
       "      <th>version_year</th>\n",
       "      <th>region_type</th>\n",
       "      <th>region_code</th>\n",
       "      <th>region_name</th>\n",
       "      <th>region_area_km2</th>\n",
       "      <th>season_name</th>\n",
       "      <th>start_dt</th>\n",
       "      <th>end_dt</th>\n",
       "      <th>abundance_mean</th>\n",
       "      <th>total_pop_percent</th>\n",
       "      <th>range_percent_occupied</th>\n",
       "      <th>range_total_percent</th>\n",
       "      <th>range_days_occupation</th>\n",
       "    </tr>\n",
       "  </thead>\n",
       "  <tbody>\n",
       "    <tr>\n",
       "      <th>0</th>\n",
       "      <td>grerhe1</td>\n",
       "      <td>8</td>\n",
       "      <td>Greater Rhea</td>\n",
       "      <td>Rhea americana</td>\n",
       "      <td>2021</td>\n",
       "      <td>country</td>\n",
       "      <td>ARG</td>\n",
       "      <td>Argentina</td>\n",
       "      <td>2.782897e+06</td>\n",
       "      <td>year_round</td>\n",
       "      <td>2020-01-04</td>\n",
       "      <td>2020-12-28</td>\n",
       "      <td>0.1619</td>\n",
       "      <td>0.2595</td>\n",
       "      <td>0.2177</td>\n",
       "      <td>0.2580</td>\n",
       "      <td>365.0</td>\n",
       "    </tr>\n",
       "    <tr>\n",
       "      <th>1</th>\n",
       "      <td>grerhe1</td>\n",
       "      <td>8</td>\n",
       "      <td>Greater Rhea</td>\n",
       "      <td>Rhea americana</td>\n",
       "      <td>2021</td>\n",
       "      <td>state</td>\n",
       "      <td>ARG-1273</td>\n",
       "      <td>San Juan</td>\n",
       "      <td>8.785128e+04</td>\n",
       "      <td>year_round</td>\n",
       "      <td>2020-01-04</td>\n",
       "      <td>2020-12-28</td>\n",
       "      <td>0.0003</td>\n",
       "      <td>0.0000</td>\n",
       "      <td>0.0016</td>\n",
       "      <td>0.0001</td>\n",
       "      <td>365.0</td>\n",
       "    </tr>\n",
       "    <tr>\n",
       "      <th>2</th>\n",
       "      <td>grerhe1</td>\n",
       "      <td>8</td>\n",
       "      <td>Greater Rhea</td>\n",
       "      <td>Rhea americana</td>\n",
       "      <td>2021</td>\n",
       "      <td>state</td>\n",
       "      <td>ARG-1275</td>\n",
       "      <td>Mendoza</td>\n",
       "      <td>1.508040e+05</td>\n",
       "      <td>year_round</td>\n",
       "      <td>2020-01-04</td>\n",
       "      <td>2020-12-28</td>\n",
       "      <td>0.0175</td>\n",
       "      <td>0.0015</td>\n",
       "      <td>0.0605</td>\n",
       "      <td>0.0039</td>\n",
       "      <td>365.0</td>\n",
       "    </tr>\n",
       "    <tr>\n",
       "      <th>3</th>\n",
       "      <td>grerhe1</td>\n",
       "      <td>8</td>\n",
       "      <td>Greater Rhea</td>\n",
       "      <td>Rhea americana</td>\n",
       "      <td>2021</td>\n",
       "      <td>state</td>\n",
       "      <td>ARG-1295</td>\n",
       "      <td>Buenos Aires</td>\n",
       "      <td>3.060943e+05</td>\n",
       "      <td>year_round</td>\n",
       "      <td>2020-01-04</td>\n",
       "      <td>2020-12-28</td>\n",
       "      <td>0.2673</td>\n",
       "      <td>0.0479</td>\n",
       "      <td>0.2673</td>\n",
       "      <td>0.0354</td>\n",
       "      <td>365.0</td>\n",
       "    </tr>\n",
       "    <tr>\n",
       "      <th>4</th>\n",
       "      <td>grerhe1</td>\n",
       "      <td>8</td>\n",
       "      <td>Greater Rhea</td>\n",
       "      <td>Rhea americana</td>\n",
       "      <td>2021</td>\n",
       "      <td>state</td>\n",
       "      <td>ARG-1296</td>\n",
       "      <td>La Pampa</td>\n",
       "      <td>1.426705e+05</td>\n",
       "      <td>year_round</td>\n",
       "      <td>2020-01-04</td>\n",
       "      <td>2020-12-28</td>\n",
       "      <td>0.4091</td>\n",
       "      <td>0.0334</td>\n",
       "      <td>0.5506</td>\n",
       "      <td>0.0332</td>\n",
       "      <td>365.0</td>\n",
       "    </tr>\n",
       "  </tbody>\n",
       "</table>\n",
       "</div>"
      ],
      "text/plain": [
       "  species_code  taxon_order   common_name scientific_name  version_year  \\\n",
       "0      grerhe1            8  Greater Rhea  Rhea americana          2021   \n",
       "1      grerhe1            8  Greater Rhea  Rhea americana          2021   \n",
       "2      grerhe1            8  Greater Rhea  Rhea americana          2021   \n",
       "3      grerhe1            8  Greater Rhea  Rhea americana          2021   \n",
       "4      grerhe1            8  Greater Rhea  Rhea americana          2021   \n",
       "\n",
       "  region_type region_code   region_name  region_area_km2 season_name  \\\n",
       "0     country         ARG     Argentina     2.782897e+06  year_round   \n",
       "1       state    ARG-1273      San Juan     8.785128e+04  year_round   \n",
       "2       state    ARG-1275       Mendoza     1.508040e+05  year_round   \n",
       "3       state    ARG-1295  Buenos Aires     3.060943e+05  year_round   \n",
       "4       state    ARG-1296      La Pampa     1.426705e+05  year_round   \n",
       "\n",
       "     start_dt      end_dt  abundance_mean  total_pop_percent  \\\n",
       "0  2020-01-04  2020-12-28          0.1619             0.2595   \n",
       "1  2020-01-04  2020-12-28          0.0003             0.0000   \n",
       "2  2020-01-04  2020-12-28          0.0175             0.0015   \n",
       "3  2020-01-04  2020-12-28          0.2673             0.0479   \n",
       "4  2020-01-04  2020-12-28          0.4091             0.0334   \n",
       "\n",
       "   range_percent_occupied  range_total_percent  range_days_occupation  \n",
       "0                  0.2177               0.2580                  365.0  \n",
       "1                  0.0016               0.0001                  365.0  \n",
       "2                  0.0605               0.0039                  365.0  \n",
       "3                  0.2673               0.0354                  365.0  \n",
       "4                  0.5506               0.0332                  365.0  "
      ]
     },
     "execution_count": 144,
     "metadata": {},
     "output_type": "execute_result"
    }
   ],
   "source": [
    "df=pd.read_csv('data/all-stats-regional-2021.csv')\n",
    "print(len(df))\n",
    "df.head()"
   ]
  },
  {
   "cell_type": "markdown",
   "id": "fd78cb71",
   "metadata": {},
   "source": [
    "We started with the analysis of information about bird species.\n",
    "\n",
    "Each species is characterized by an unique species code, a common name and a scientific name.\n",
    "The correspondence between all the species and the number of their occurrences in the dataset is reported here."
   ]
  },
  {
   "cell_type": "code",
   "execution_count": 60,
   "id": "aed374ff",
   "metadata": {},
   "outputs": [
    {
     "data": {
      "text/html": [
       "<div>\n",
       "<style scoped>\n",
       "    .dataframe tbody tr th:only-of-type {\n",
       "        vertical-align: middle;\n",
       "    }\n",
       "\n",
       "    .dataframe tbody tr th {\n",
       "        vertical-align: top;\n",
       "    }\n",
       "\n",
       "    .dataframe thead th {\n",
       "        text-align: right;\n",
       "    }\n",
       "</style>\n",
       "<table border=\"1\" class=\"dataframe\">\n",
       "  <thead>\n",
       "    <tr style=\"text-align: right;\">\n",
       "      <th></th>\n",
       "      <th>species_code</th>\n",
       "      <th>common_name</th>\n",
       "      <th>scientific_name</th>\n",
       "      <th>number</th>\n",
       "    </tr>\n",
       "  </thead>\n",
       "  <tbody>\n",
       "    <tr>\n",
       "      <th>0</th>\n",
       "      <td>grerhe1</td>\n",
       "      <td>Greater Rhea</td>\n",
       "      <td>Rhea americana</td>\n",
       "      <td>83</td>\n",
       "    </tr>\n",
       "    <tr>\n",
       "      <th>83</th>\n",
       "      <td>pabtin1</td>\n",
       "      <td>Pale-browed Tinamou</td>\n",
       "      <td>Crypturellus transfasciatus</td>\n",
       "      <td>18</td>\n",
       "    </tr>\n",
       "    <tr>\n",
       "      <th>101</th>\n",
       "      <td>wfwduc1</td>\n",
       "      <td>White-faced Whistling-Duck</td>\n",
       "      <td>Dendrocygna viduata</td>\n",
       "      <td>687</td>\n",
       "    </tr>\n",
       "    <tr>\n",
       "      <th>788</th>\n",
       "      <td>bbwduc</td>\n",
       "      <td>Black-bellied Whistling-Duck</td>\n",
       "      <td>Dendrocygna autumnalis</td>\n",
       "      <td>1261</td>\n",
       "    </tr>\n",
       "    <tr>\n",
       "      <th>2049</th>\n",
       "      <td>wiwduc1</td>\n",
       "      <td>West Indian Whistling-Duck</td>\n",
       "      <td>Dendrocygna arborea</td>\n",
       "      <td>109</td>\n",
       "    </tr>\n",
       "  </tbody>\n",
       "</table>\n",
       "</div>"
      ],
      "text/plain": [
       "     species_code                   common_name              scientific_name  \\\n",
       "0         grerhe1                  Greater Rhea               Rhea americana   \n",
       "83        pabtin1           Pale-browed Tinamou  Crypturellus transfasciatus   \n",
       "101       wfwduc1    White-faced Whistling-Duck          Dendrocygna viduata   \n",
       "788        bbwduc  Black-bellied Whistling-Duck       Dendrocygna autumnalis   \n",
       "2049      wiwduc1    West Indian Whistling-Duck          Dendrocygna arborea   \n",
       "\n",
       "      number  \n",
       "0         83  \n",
       "83        18  \n",
       "101      687  \n",
       "788     1261  \n",
       "2049     109  "
      ]
     },
     "execution_count": 60,
     "metadata": {},
     "output_type": "execute_result"
    }
   ],
   "source": [
    "species=df[['species_code','common_name','scientific_name']].drop_duplicates()\n",
    "species['number']=species.species_code.apply(lambda x: len(df[df.species_code==x]))\n",
    "species.head()"
   ]
  },
  {
   "cell_type": "markdown",
   "id": "148d74c4",
   "metadata": {},
   "source": [
    "The total number of distinct bird species in the dataset is counted, and we print the one with the highest number of occurrences."
   ]
  },
  {
   "cell_type": "code",
   "execution_count": 62,
   "id": "f983f1d3",
   "metadata": {},
   "outputs": [
    {
     "name": "stdout",
     "output_type": "stream",
     "text": [
      "1009\n"
     ]
    },
    {
     "data": {
      "text/html": [
       "<div>\n",
       "<style scoped>\n",
       "    .dataframe tbody tr th:only-of-type {\n",
       "        vertical-align: middle;\n",
       "    }\n",
       "\n",
       "    .dataframe tbody tr th {\n",
       "        vertical-align: top;\n",
       "    }\n",
       "\n",
       "    .dataframe thead th {\n",
       "        text-align: right;\n",
       "    }\n",
       "</style>\n",
       "<table border=\"1\" class=\"dataframe\">\n",
       "  <thead>\n",
       "    <tr style=\"text-align: right;\">\n",
       "      <th></th>\n",
       "      <th>species_code</th>\n",
       "      <th>common_name</th>\n",
       "      <th>scientific_name</th>\n",
       "      <th>number</th>\n",
       "    </tr>\n",
       "  </thead>\n",
       "  <tbody>\n",
       "    <tr>\n",
       "      <th>651167</th>\n",
       "      <td>barswa</td>\n",
       "      <td>Barn Swallow</td>\n",
       "      <td>Hirundo rustica</td>\n",
       "      <td>12474</td>\n",
       "    </tr>\n",
       "  </tbody>\n",
       "</table>\n",
       "</div>"
      ],
      "text/plain": [
       "       species_code   common_name  scientific_name  number\n",
       "651167       barswa  Barn Swallow  Hirundo rustica   12474"
      ]
     },
     "execution_count": 62,
     "metadata": {},
     "output_type": "execute_result"
    }
   ],
   "source": [
    "print(len(species))\n",
    "species[species.number==species.number.max()]"
   ]
  },
  {
   "cell_type": "markdown",
   "id": "3afc162e",
   "metadata": {},
   "source": [
    "Then we analyzed the data from a geographic point of view.\n",
    "\n",
    "The rows are grouped according to their region, and we found the number of distinct regions in the dataset.\n",
    "The region with the highest number of occurrences is reported."
   ]
  },
  {
   "cell_type": "code",
   "execution_count": 63,
   "id": "a7c93748",
   "metadata": {},
   "outputs": [
    {
     "data": {
      "text/html": [
       "<div>\n",
       "<style scoped>\n",
       "    .dataframe tbody tr th:only-of-type {\n",
       "        vertical-align: middle;\n",
       "    }\n",
       "\n",
       "    .dataframe tbody tr th {\n",
       "        vertical-align: top;\n",
       "    }\n",
       "\n",
       "    .dataframe thead th {\n",
       "        text-align: right;\n",
       "    }\n",
       "</style>\n",
       "<table border=\"1\" class=\"dataframe\">\n",
       "  <thead>\n",
       "    <tr style=\"text-align: right;\">\n",
       "      <th></th>\n",
       "      <th>region_type</th>\n",
       "      <th>region_name</th>\n",
       "      <th>region_code</th>\n",
       "      <th>number</th>\n",
       "    </tr>\n",
       "  </thead>\n",
       "  <tbody>\n",
       "    <tr>\n",
       "      <th>0</th>\n",
       "      <td>country</td>\n",
       "      <td>Argentina</td>\n",
       "      <td>ARG</td>\n",
       "      <td>449</td>\n",
       "    </tr>\n",
       "    <tr>\n",
       "      <th>1</th>\n",
       "      <td>state</td>\n",
       "      <td>San Juan</td>\n",
       "      <td>ARG-1273</td>\n",
       "      <td>245</td>\n",
       "    </tr>\n",
       "    <tr>\n",
       "      <th>2</th>\n",
       "      <td>state</td>\n",
       "      <td>Mendoza</td>\n",
       "      <td>ARG-1275</td>\n",
       "      <td>253</td>\n",
       "    </tr>\n",
       "    <tr>\n",
       "      <th>3</th>\n",
       "      <td>state</td>\n",
       "      <td>Buenos Aires</td>\n",
       "      <td>ARG-1295</td>\n",
       "      <td>320</td>\n",
       "    </tr>\n",
       "    <tr>\n",
       "      <th>4</th>\n",
       "      <td>state</td>\n",
       "      <td>La Pampa</td>\n",
       "      <td>ARG-1296</td>\n",
       "      <td>249</td>\n",
       "    </tr>\n",
       "  </tbody>\n",
       "</table>\n",
       "</div>"
      ],
      "text/plain": [
       "  region_type   region_name region_code  number\n",
       "0     country     Argentina         ARG     449\n",
       "1       state      San Juan    ARG-1273     245\n",
       "2       state       Mendoza    ARG-1275     253\n",
       "3       state  Buenos Aires    ARG-1295     320\n",
       "4       state      La Pampa    ARG-1296     249"
      ]
     },
     "execution_count": 63,
     "metadata": {},
     "output_type": "execute_result"
    }
   ],
   "source": [
    "region=df[['region_type','region_name','region_code']].drop_duplicates()\n",
    "region['number']=region.region_code.apply(lambda x: len(df[df.region_code==x]))\n",
    "region.head()"
   ]
  },
  {
   "cell_type": "code",
   "execution_count": 152,
   "id": "fc022bd6",
   "metadata": {},
   "outputs": [
    {
     "name": "stdout",
     "output_type": "stream",
     "text": [
      "4591\n"
     ]
    },
    {
     "data": {
      "text/html": [
       "<div>\n",
       "<style scoped>\n",
       "    .dataframe tbody tr th:only-of-type {\n",
       "        vertical-align: middle;\n",
       "    }\n",
       "\n",
       "    .dataframe tbody tr th {\n",
       "        vertical-align: top;\n",
       "    }\n",
       "\n",
       "    .dataframe thead th {\n",
       "        text-align: right;\n",
       "    }\n",
       "</style>\n",
       "<table border=\"1\" class=\"dataframe\">\n",
       "  <thead>\n",
       "    <tr style=\"text-align: right;\">\n",
       "      <th></th>\n",
       "      <th>region_type</th>\n",
       "      <th>region_name</th>\n",
       "      <th>region_code</th>\n",
       "      <th>number</th>\n",
       "    </tr>\n",
       "  </thead>\n",
       "  <tbody>\n",
       "    <tr>\n",
       "      <th>1867</th>\n",
       "      <td>country</td>\n",
       "      <td>United States</td>\n",
       "      <td>USA</td>\n",
       "      <td>1933</td>\n",
       "    </tr>\n",
       "  </tbody>\n",
       "</table>\n",
       "</div>"
      ],
      "text/plain": [
       "     region_type    region_name region_code  number\n",
       "1867     country  United States         USA    1933"
      ]
     },
     "execution_count": 152,
     "metadata": {},
     "output_type": "execute_result"
    }
   ],
   "source": [
    "print(len(region))\n",
    "region[region.number==region.number.max()]"
   ]
  },
  {
   "cell_type": "markdown",
   "id": "736e7460",
   "metadata": {},
   "source": [
    "There are two types of region in the dataset: countries and states (sub-regions).\n",
    "The comparison between their number of occurrences is shown here."
   ]
  },
  {
   "cell_type": "code",
   "execution_count": 56,
   "id": "ad3852a4",
   "metadata": {
    "scrolled": true
   },
   "outputs": [
    {
     "data": {
      "text/plain": [
       "<AxesSubplot:xlabel='region_type', ylabel='count'>"
      ]
     },
     "execution_count": 56,
     "metadata": {},
     "output_type": "execute_result"
    },
    {
     "data": {
      "image/png": "[encoded data removed]",
      "text/plain": [
       "<Figure size 432x288 with 1 Axes>"
      ]
     },
     "metadata": {
      "needs_background": "light"
     },
     "output_type": "display_data"
    }
   ],
   "source": [
    "plt.xlabel('region_type')\n",
    "plt.ylabel('count')\n",
    "df.region_type.hist()"
   ]
  },
  {
   "cell_type": "markdown",
   "id": "93248a44",
   "metadata": {},
   "source": [
    "Here the distribution of data divided by different seasons is plotted."
   ]
  },
  {
   "cell_type": "code",
   "execution_count": 58,
   "id": "5ef9449c",
   "metadata": {
    "scrolled": true
   },
   "outputs": [
    {
     "data": {
      "text/plain": [
       "[]"
      ]
     },
     "execution_count": 58,
     "metadata": {},
     "output_type": "execute_result"
    },
    {
     "data": {
      "image/png": "[encoded data removed]",
      "text/plain": [
       "<Figure size 720x360 with 1 Axes>"
      ]
     },
     "metadata": {
      "needs_background": "light"
     },
     "output_type": "display_data"
    }
   ],
   "source": [
    "plt.figure(figsize=(10,5))\n",
    "plt.hist(df.season_name)\n",
    "plt.xlabel('season_name')\n",
    "plt.ylabel('count')\n",
    "plt.plot()"
   ]
  },
  {
   "cell_type": "markdown",
   "id": "3c48a8a3",
   "metadata": {},
   "source": [
    "Now we summarized the data by countries.\n",
    "\n",
    "In this way we obtained, for each country, the number of seasons in which a certain species is present. "
   ]
  },
  {
   "cell_type": "code",
   "execution_count": 143,
   "id": "6960047a",
   "metadata": {},
   "outputs": [
    {
     "data": {
      "text/html": [
       "<div>\n",
       "<style scoped>\n",
       "    .dataframe tbody tr th:only-of-type {\n",
       "        vertical-align: middle;\n",
       "    }\n",
       "\n",
       "    .dataframe tbody tr th {\n",
       "        vertical-align: top;\n",
       "    }\n",
       "\n",
       "    .dataframe thead th {\n",
       "        text-align: right;\n",
       "    }\n",
       "</style>\n",
       "<table border=\"1\" class=\"dataframe\">\n",
       "  <thead>\n",
       "    <tr style=\"text-align: right;\">\n",
       "      <th></th>\n",
       "      <th>region_name</th>\n",
       "      <th>scientific_name</th>\n",
       "      <th>number</th>\n",
       "    </tr>\n",
       "  </thead>\n",
       "  <tbody>\n",
       "    <tr>\n",
       "      <th>0</th>\n",
       "      <td>Afghanistan</td>\n",
       "      <td>Acridotheres tristis</td>\n",
       "      <td>1</td>\n",
       "    </tr>\n",
       "    <tr>\n",
       "      <th>1</th>\n",
       "      <td>Afghanistan</td>\n",
       "      <td>Acrocephalus dumetorum</td>\n",
       "      <td>2</td>\n",
       "    </tr>\n",
       "    <tr>\n",
       "      <th>2</th>\n",
       "      <td>Afghanistan</td>\n",
       "      <td>Alauda arvensis</td>\n",
       "      <td>3</td>\n",
       "    </tr>\n",
       "    <tr>\n",
       "      <th>3</th>\n",
       "      <td>Afghanistan</td>\n",
       "      <td>Alcedo atthis</td>\n",
       "      <td>4</td>\n",
       "    </tr>\n",
       "    <tr>\n",
       "      <th>4</th>\n",
       "      <td>Afghanistan</td>\n",
       "      <td>Alectoris chukar</td>\n",
       "      <td>1</td>\n",
       "    </tr>\n",
       "  </tbody>\n",
       "</table>\n",
       "</div>"
      ],
      "text/plain": [
       "   region_name         scientific_name  number\n",
       "0  Afghanistan    Acridotheres tristis       1\n",
       "1  Afghanistan  Acrocephalus dumetorum       2\n",
       "2  Afghanistan         Alauda arvensis       3\n",
       "3  Afghanistan           Alcedo atthis       4\n",
       "4  Afghanistan        Alectoris chukar       1"
      ]
     },
     "execution_count": 143,
     "metadata": {},
     "output_type": "execute_result"
    }
   ],
   "source": [
    "df1=df[df.region_type=='country']\n",
    "df1=df1.groupby(['region_name','scientific_name']).species_code.agg('count')\n",
    "df1=df1.reset_index()\n",
    "df1.loc[:, 'number']=df1.species_code\n",
    "df1.drop(columns='species_code',inplace=True)\n",
    "df1.head()"
   ]
  },
  {
   "cell_type": "code",
   "execution_count": null,
   "id": "57e9942b",
   "metadata": {},
   "outputs": [],
   "source": [
    "import geopandas as gpd\n",
    "import numpy as np"
   ]
  },
  {
   "cell_type": "markdown",
   "id": "f4709274",
   "metadata": {},
   "source": [
    "In this part, we analyzed the spatial data concerning the bird species distribution in different seasons.\n",
    "Thanks to the geographic coordinates provided by the dataset, we can show the distribution of the species.\n"
   ]
  },
  {
   "cell_type": "code",
   "execution_count": null,
   "id": "6a5e8afd",
   "metadata": {},
   "outputs": [],
   "source": [
    "df = gpd.read_file('barswa-rangeRaw-2021.gpkg')\n",
    "df.head()"
   ]
  },
  {
   "attachments": {
    "1.png": {
     "image/png": "[encoded data removed]"
    }
   },
   "cell_type": "markdown",
   "id": "54ba1e8d",
   "metadata": {},
   "source": [
    "![1.png](attachment:1.png)"
   ]
  },
  {
   "cell_type": "code",
   "execution_count": null,
   "id": "adb4cf92",
   "metadata": {},
   "outputs": [],
   "source": [
    "df.geometry[0]"
   ]
  },
  {
   "attachments": {
    "2.png": {
     "image/png": "[encoded data removed]"
    }
   },
   "cell_type": "markdown",
   "id": "75e8d180",
   "metadata": {},
   "source": [
    "![2.png](attachment:2.png)"
   ]
  },
  {
   "cell_type": "code",
   "execution_count": null,
   "id": "f5ea339a",
   "metadata": {},
   "outputs": [],
   "source": [
    "df.geometry[1]"
   ]
  },
  {
   "attachments": {
    "3.png": {
     "image/png": "[encoded data removed]"
    }
   },
   "cell_type": "markdown",
   "id": "207617ae",
   "metadata": {},
   "source": [
    "![3.png](attachment:3.png)"
   ]
  },
  {
   "cell_type": "code",
   "execution_count": null,
   "id": "2ad41b63",
   "metadata": {},
   "outputs": [],
   "source": [
    "df.geometry[2]"
   ]
  },
  {
   "attachments": {
    "4.png": {
     "image/png": "[encoded data removed]"
    }
   },
   "cell_type": "markdown",
   "id": "1eaa5267",
   "metadata": {},
   "source": [
    "![4.png](attachment:4.png)"
   ]
  },
  {
   "cell_type": "code",
   "execution_count": null,
   "id": "d4856682",
   "metadata": {},
   "outputs": [],
   "source": [
    "df.geometry[3]"
   ]
  },
  {
   "attachments": {
    "5.png": {
     "image/png": "[encoded data removed]"
    }
   },
   "cell_type": "markdown",
   "id": "408af608",
   "metadata": {},
   "source": [
    "![5.png](attachment:5.png)"
   ]
  },
  {
   "cell_type": "code",
   "execution_count": null,
   "id": "24be023c",
   "metadata": {},
   "outputs": [],
   "source": []
  }
 ],
 "metadata": {
  "kernelspec": {
   "display_name": "Python 3 (ipykernel)",
   "language": "python",
   "name": "python3"
  },
  "language_info": {
   "codemirror_mode": {
    "name": "ipython",
    "version": 3
   },
   "file_extension": ".py",
   "mimetype": "text/x-python",
   "name": "python",
   "nbconvert_exporter": "python",
   "pygments_lexer": "ipython3",
   "version": "3.9.7"
  }
 },
 "nbformat": 4,
 "nbformat_minor": 5
}
